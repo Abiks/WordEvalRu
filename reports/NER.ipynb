{
 "cells": [
  {
   "cell_type": "markdown",
   "metadata": {},
   "source": [
    "# Демонстрация\n",
    "\n",
    "Данный ноутбук показывает внутренее устройтво библиотеки и то, как ее предполагается использовать.\n",
    "\n",
    "От пользователя требуется реализовать класс \"Embedder\", объекты которого имеют метод get_word_embeddings, который принимает на вход текст предложения (либо список его токенов), возвращают список из эмбеддингов слов (либо двумерный numpy-массив, у которого первая размерность соответствует словам предложения). \n",
    "\n",
    "Установка пакета пока не поддерживается, поэтому в данный момент импорты идут через sys"
   ]
  },
  {
   "cell_type": "code",
   "execution_count": 1,
   "metadata": {},
   "outputs": [],
   "source": [
    "import sys"
   ]
  },
  {
   "cell_type": "code",
   "execution_count": 2,
   "metadata": {},
   "outputs": [],
   "source": [
    "sys.path.append('../src/examples')\n",
    "from compressed_fasttext import CompressedFastTextEmbedder\n",
    "embedder = CompressedFastTextEmbedder()"
   ]
  },
  {
   "cell_type": "markdown",
   "metadata": {},
   "source": [
    "Поскольку сейчас в библиотеке есть только задача NER на датасете FactRuEval, импортируем только ее. \n",
    "\n",
    "В конструктор нужно передать ссылку на созданный объект класса Embedder"
   ]
  },
  {
   "cell_type": "code",
   "execution_count": 3,
   "metadata": {},
   "outputs": [],
   "source": [
    "sys.path.append('../src/tasks')\n",
    "from factrueval import CheckerNERFactRuEval\n",
    "\n",
    "checker = CheckerNERFactRuEval(embedder)"
   ]
  },
  {
   "cell_type": "markdown",
   "metadata": {},
   "source": [
    "Метод .check() (без аргументов) выполняет проверку и возвращает F1-метрику "
   ]
  },
  {
   "cell_type": "code",
   "execution_count": 4,
   "metadata": {},
   "outputs": [
    {
     "name": "stderr",
     "output_type": "stream",
     "text": [
      "100%|██████████| 27821/27821 [01:05<00:00, 421.65it/s]\n",
      "100%|██████████| 6955/6955 [00:15<00:00, 435.24it/s]\n",
      "/home/artem/miniconda3/envs/wordevalru/lib/python3.6/site-packages/sklearn/metrics/_classification.py:1515: UndefinedMetricWarning: F-score is ill-defined and being set to 0.0 in labels with no true nor predicted samples. Use `zero_division` parameter to control this behavior.\n",
      "  average, \"true nor predicted\", 'F-score is', len(true_sum)\n"
     ]
    },
    {
     "data": {
      "text/plain": [
       "0.42784177982161165"
      ]
     },
     "execution_count": 4,
     "metadata": {},
     "output_type": "execute_result"
    }
   ],
   "source": [
    "checker.check()"
   ]
  },
  {
   "cell_type": "code",
   "execution_count": null,
   "metadata": {},
   "outputs": [],
   "source": []
  }
 ],
 "metadata": {
  "kernelspec": {
   "display_name": "WordEvalRu (python 3.6)",
   "language": "python",
   "name": "wordevalru"
  },
  "language_info": {
   "codemirror_mode": {
    "name": "ipython",
    "version": 3
   },
   "file_extension": ".py",
   "mimetype": "text/x-python",
   "name": "python",
   "nbconvert_exporter": "python",
   "pygments_lexer": "ipython3",
   "version": "3.6.10"
  }
 },
 "nbformat": 4,
 "nbformat_minor": 4
}
